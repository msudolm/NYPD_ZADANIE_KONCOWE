{
 "cells": [
  {
   "cell_type": "markdown",
   "id": "c0136480",
   "metadata": {},
   "source": [
    "# Zadanie zaliczeniowe NYPD"
   ]
  },
  {
   "cell_type": "code",
   "execution_count": 1,
   "id": "931fc619",
   "metadata": {},
   "outputs": [],
   "source": [
    "#znaczna część pokryta testami"
   ]
  },
  {
   "cell_type": "markdown",
   "id": "5e78bb97",
   "metadata": {},
   "source": [
    "### Zadanie:\n",
    "Zadaniem zaliczeniowym jest **stworzenie biblioteki do przetwarzania pewnego typu danych**.<br>\n",
    "Do biblioteki powinien być załączony skrypt (może być w formie Jupyter notebooka) pokazujący użycie biblioteki na konkretnych danych.<br>\n",
    "Własne propozycje zadań również muszą to spełniać."
   ]
  },
  {
   "cell_type": "markdown",
   "id": "ff9e7c3e",
   "metadata": {},
   "source": [
    "## Podstawowa propozycja zadania:\n",
    "\n",
    "W tym roku prosimy Państwa o zbadanie zależności między:\n",
    " - dochodami państw (GDP - gross domestic product, PKB - produkt krajowy brutto),\n",
    " - liczbami mieszkańców,\n",
    " - i emisją substancji lotnych."
   ]
  },
  {
   "cell_type": "markdown",
   "id": "afe56106",
   "metadata": {},
   "source": [
    "## Dane:\n",
    "\n",
    "\n",
    "- **GDP** (plik csv, jest w spakowanym pliku zip).<br>Tu są dane o GDP dla wszystkich krajów w latach 1960-2021 (niektórych danych brakuje).\n",
    "- **Liczby mieszkańców** (plik csv, jest w spakowanym plik zip). Dane o ludności w krajach też z lat 1960-2021.\n",
    "- **Emisja CO2** (plik csv, jest też obok spakowany plik z danymi w formacie csv, i json w środku). Dane o emisji z lat 1751 (!) do 2014. Na stronie są też przykładowe fragmenty kodu pobierającego te dane"
   ]
  },
  {
   "cell_type": "markdown",
   "id": "6f914cd3",
   "metadata": {},
   "source": [
    "### [To robi argparse]"
   ]
  },
  {
   "cell_type": "code",
   "execution_count": 37,
   "id": "690d8702",
   "metadata": {},
   "outputs": [],
   "source": [
    "import pandas as pd\n",
    "import argparse"
   ]
  },
  {
   "cell_type": "code",
   "execution_count": 2,
   "id": "27c1ffb0",
   "metadata": {},
   "outputs": [],
   "source": [
    "#populacja\n",
    "population_path = \"./data/API_SP/API_SP.POP.TOTL_DS2_en_csv_v2_4751604.csv\"\n",
    "#GDP\n",
    "gdp_path = \"./data/API_NY/API_NY.GDP.MKTP.CD_DS2_en_csv_v2_4751562.csv\"\n",
    "#CO2\n",
    "co2_path = \"./data/co2-fossil-by-nation_zip/data/fossil-fuel-co2-emissions-by-nation_csv.csv\""
   ]
  },
  {
   "cell_type": "markdown",
   "id": "6ad15998",
   "metadata": {},
   "source": [
    "## Polecenie\n",
    "Należy napisać w Pythonie program, który:\n",
    "1. [ ] <span style=\"color:blue\">Pobiera (używając argparse) z wiersza poleceń ścieżki do plików (w formacie csv) z danymi o GDP, populacji i emisji. **[później]**</span><br><br>\n",
    "2. [x] Zakłada że są w formacie jaki dziś (choć w przyszłości danych może być więcej, czyli nie można założyć, że program ma działać dokładnie na tych plikach, które są dołączone do zadania, natomiast należy założyć, że format będzie zachowany) i je wczytuje.<br><br>\n",
    "3. [x] Czyści te dane (w tym punkcie nie ma wiele do zrobienia w odniesieniu do podanych źródeł danych).<br><br>\n",
    "4. [x] Wybiera tylko te lata, które są we wszystkich tabelach. Uwaga: chodzi o lata faktycznie występujące w tych tabelach, także w przyszłości, tzn. nie można w docelowej wersji na sztywno założyć (zaszyć w kodzie), że są to dane za lata 1960-2014), choć w pierwszych wersjach rozwiązania to może być wygodne.\n",
    "5. [x] Scala dane po krajach i latach.<br><br>\n",
    "6. [ ] Przeprowadza analizy (za pomocą bibliotek numpy lub panadas):<br>\n",
    "    - **Które kraje w poszczególnych latach z danymi, emitują najwięcej CO2 w przeliczeniu na mieszkańca.**<br>To znaczy generuje posortowaną po latach tabelkę pięcioma krajami o największej emisji na osobę (z podaną nazwą kraju, emisją na osobę i całkowitą emisją.\n",
    "    - **Które kraje w poszczególnych latach z danymi mają największy przychód mieszkańca.**<br>To znaczy generuje posortowaną po latach tabelkę pięcioma krajami o największym dochodzie na mieszkańca (z podaną nazwą kraju, dochodem na mieszkańca i całkowitym dochodem).\n",
    "    - **Które kraje (w przeliczeniu na mieszkańca) najbardziej zmniejszyły i zwiększyły przez ost. 10 lat (z danych) emisję CO2.**"
   ]
  },
  {
   "cell_type": "markdown",
   "id": "f9c38cb7",
   "metadata": {},
   "source": [
    "# część I<br>PRZYGOTOWANIE DANYCH"
   ]
  },
  {
   "cell_type": "markdown",
   "id": "547195d6",
   "metadata": {},
   "source": [
    "## Wczytanie danych"
   ]
  },
  {
   "cell_type": "code",
   "execution_count": 3,
   "id": "822e3787",
   "metadata": {},
   "outputs": [],
   "source": [
    "df_population_raw = pd.read_csv(population_path, skiprows=4)\n",
    "df_gdp_raw = pd.read_csv(gdp_path, skiprows=4)\n",
    "df_co2_raw = pd.read_csv(co2_path)"
   ]
  },
  {
   "cell_type": "markdown",
   "id": "53d0c5c9",
   "metadata": {},
   "source": [
    "## 1. Przygotowanie tabel z danymi\n",
    "#### <span style=\"color:red\">sprowadzić wartości liczbowe do wspólnych typów danych <span>"
   ]
  },
  {
   "cell_type": "markdown",
   "id": "587bf88d",
   "metadata": {},
   "source": [
    "### 1.1 Przygotowanie tabeli z danymi z worldbank:"
   ]
  },
  {
   "cell_type": "markdown",
   "id": "ebe8b356",
   "metadata": {},
   "source": [
    "Funkcja przygotowująca z danych wczytanych z pliku w formacie worldbank ramkę z danymi w formacie lata x kraje. "
   ]
  },
  {
   "cell_type": "code",
   "execution_count": 4,
   "id": "6b97e1f7",
   "metadata": {},
   "outputs": [],
   "source": [
    "def prepare_worldbank_df(raw_df):\n",
    "    '''Funkcja przygotowuje dane (GDP/populacja) w formacie jak w 'data.worldbank.org'\n",
    "    do analizy (tabela postaci lata x kraje)'''\n",
    "    \n",
    "    df = raw_df.T\n",
    "    \n",
    "    #czy niepowtarzalne nazwy w wierszu 'Country name'\n",
    "    assert len(set(df.loc['Country Name'])) == len(df.columns)\n",
    "    \n",
    "    #ustaw nagłówek\n",
    "    countries_caps = [c.upper() for c in df.loc['Country Name']]\n",
    "    df.set_axis(list(countries_caps), axis=1, inplace=True)\n",
    "    \n",
    "    #pozostawiamy tylko wiersze z latami (w tym formacie tabeli: od czwartego poza nagłówkiem do przedostatniego)\n",
    "    df = df[4:-1]\n",
    "    \n",
    "    return df\n",
    "    "
   ]
  },
  {
   "cell_type": "code",
   "execution_count": 5,
   "id": "dd39ed7a",
   "metadata": {
    "scrolled": true
   },
   "outputs": [],
   "source": [
    "df_population= prepare_worldbank_df(df_population_raw)\n",
    "df_gdp = prepare_worldbank_df(df_gdp_raw)"
   ]
  },
  {
   "cell_type": "code",
   "execution_count": 7,
   "id": "a5b51e84",
   "metadata": {},
   "outputs": [],
   "source": [
    "#print(df_gdp['Afghanistan'][0])\n",
    "#type(df_gdp['Afghanistan'][0])"
   ]
  },
  {
   "cell_type": "markdown",
   "id": "52f6297a",
   "metadata": {},
   "source": [
    "### 1.2 Przygotowanie tabeli z danymi o emisji CO2:"
   ]
  },
  {
   "cell_type": "code",
   "execution_count": 6,
   "id": "a4c259f9",
   "metadata": {},
   "outputs": [],
   "source": [
    "def co2_to_year_vs_country_format(co2_df):\n",
    "    '''Funkcja konwertuje ramkę danych, zawierającą rekordy o emisji CO2 w danym roku przez dany kraj\n",
    "    (ramka musi zawierać kolumny: 'Year', 'Country', 'Total')\n",
    "    do ramki, w której indeksami są wartości z 'Year', nazwami kolumn wartości z 'Country', a wartościami zawartość kolumny'Total' '''\n",
    "    \n",
    "    ## w oryginalnych danych kolumna 'Year' przechowuje typ 'int', w worlbank to 'str' \n",
    "    df = co2_df.astype({'Year': 'str'})\n",
    "    return df.pivot(index='Year', columns='Country', values='Total')"
   ]
  },
  {
   "cell_type": "code",
   "execution_count": 7,
   "id": "b700b7a6",
   "metadata": {},
   "outputs": [],
   "source": [
    "df_co2 = co2_to_year_vs_country_format(df_co2_raw)"
   ]
  },
  {
   "cell_type": "markdown",
   "id": "9867ebca",
   "metadata": {},
   "source": [
    "## 2. Wstępne filtrowanie po wspólnych nazwach krajów i latach"
   ]
  },
  {
   "cell_type": "code",
   "execution_count": 8,
   "id": "9f2cc2e3",
   "metadata": {},
   "outputs": [],
   "source": [
    "def crop_to_shared_labels(dfs:list, axis=0)->list:\n",
    "    '''Funkcja dla zadanej listy ramek danych, zwraca ramki przefiltrowane po wspólnych etykietach\n",
    "    (indeksach (axis=0) lub nazwach kolumn (axis=1))'''\n",
    "    \n",
    "    assert len(dfs) > 0\n",
    "    assert axis in {0,1}\n",
    "    \n",
    "    ax = 'index' if not axis else 'columns'\n",
    "    \n",
    "    shared_labels = set(dfs[0].eval(ax))\n",
    "    for df in dfs[1:]:\n",
    "        shared_labels.intersection_update(set(df.eval(ax)))\n",
    "    shared_labels = sorted(list(shared_labels))\n",
    "    \n",
    "    dfs_filtered_sorted = [df.filter(items=shared_labels, axis=axis) for df in dfs]\n",
    "    return dfs_filtered_sorted"
   ]
  },
  {
   "cell_type": "code",
   "execution_count": 9,
   "id": "56714807",
   "metadata": {},
   "outputs": [],
   "source": [
    "def print_nrows_ncols(dfs:list):\n",
    "    for i,df in enumerate(dfs):\n",
    "        print(f\"({i}) wiersze: {len(df.index)}, kolumny: {len(df.columns)}\")"
   ]
  },
  {
   "cell_type": "code",
   "execution_count": 11,
   "id": "c0c4dc29",
   "metadata": {},
   "outputs": [
    {
     "name": "stdout",
     "output_type": "stream",
     "text": [
      "(0) wiersze: 62, kolumny: 266\n",
      "(1) wiersze: 62, kolumny: 266\n",
      "(2) wiersze: 264, kolumny: 256\n"
     ]
    }
   ],
   "source": [
    "dfs = [df_population, df_gdp, df_co2]\n",
    "dfs = [df.astype(float) for df in dfs]\n",
    "\n",
    "print_nrows_ncols(dfs)"
   ]
  },
  {
   "cell_type": "code",
   "execution_count": 12,
   "id": "52f874e8",
   "metadata": {},
   "outputs": [
    {
     "name": "stdout",
     "output_type": "stream",
     "text": [
      "(0) wiersze: 55, kolumny: 161\n",
      "(1) wiersze: 55, kolumny: 161\n",
      "(2) wiersze: 55, kolumny: 161\n"
     ]
    }
   ],
   "source": [
    "dfs = [df_population, df_gdp, df_co2]\n",
    "dfs = crop_to_shared_labels(dfs, axis=0)\n",
    "dfs = crop_to_shared_labels(dfs, axis=1)\n",
    "#df_population, df_gdp, df_co2 = dfs\n",
    "\n",
    "print_nrows_ncols(dfs)"
   ]
  },
  {
   "cell_type": "markdown",
   "id": "ec6ab814",
   "metadata": {},
   "source": [
    "## 3. Usuwanie wartości NaN"
   ]
  },
  {
   "cell_type": "markdown",
   "id": "b5fbd252",
   "metadata": {},
   "source": [
    "### 3.1 Usuwanie kolumn (krajów) zawierających wartości NaN"
   ]
  },
  {
   "cell_type": "code",
   "execution_count": 14,
   "id": "597f31c0",
   "metadata": {},
   "outputs": [],
   "source": [
    "def remove_nan_columns(df):\n",
    "    #axis: 0->remove rows, 1->remove columns\n",
    "    return df.dropna(axis=1)"
   ]
  },
  {
   "cell_type": "code",
   "execution_count": 15,
   "id": "0e4127a0",
   "metadata": {},
   "outputs": [
    {
     "name": "stdout",
     "output_type": "stream",
     "text": [
      "(0) wiersze: 55, kolumny: 159\n",
      "(1) wiersze: 55, kolumny: 75\n",
      "(2) wiersze: 55, kolumny: 113\n"
     ]
    }
   ],
   "source": [
    "#usuwanie kolumn z NaN\n",
    "dfs = [remove_nan_columns(df) for df in dfs]\n",
    "\n",
    "print_nrows_ncols(dfs)"
   ]
  },
  {
   "cell_type": "markdown",
   "id": "3a870bab",
   "metadata": {},
   "source": [
    "### 3.2 Ponowne ujedolicenie wspólnych krajów i lat"
   ]
  },
  {
   "cell_type": "code",
   "execution_count": 16,
   "id": "592972b8",
   "metadata": {},
   "outputs": [
    {
     "name": "stdout",
     "output_type": "stream",
     "text": [
      "(0) wiersze: 55, kolumny: 62\n",
      "(1) wiersze: 55, kolumny: 62\n",
      "(2) wiersze: 55, kolumny: 62\n"
     ]
    }
   ],
   "source": [
    "dfs = crop_to_shared_labels(dfs)\n",
    "dfs = crop_to_shared_labels(dfs, axis=1)\n",
    "\n",
    "print_nrows_ncols(dfs)"
   ]
  },
  {
   "cell_type": "markdown",
   "id": "0c182fb1",
   "metadata": {},
   "source": [
    "### 3.3 Sortowanie ramek po latach i krajach:"
   ]
  },
  {
   "cell_type": "code",
   "execution_count": 19,
   "id": "d9a54bd4",
   "metadata": {},
   "outputs": [],
   "source": [
    "def sort_dfs(dfs):\n",
    "    dfs_sorted = [df.sort_index(axis=0) for df in dfs]\n",
    "    dfs_sorted = [df.sort_index(axis=1) for df in dfs_sorted]\n",
    "    return dfs_sorted"
   ]
  },
  {
   "cell_type": "code",
   "execution_count": 20,
   "id": "05f0d8e5",
   "metadata": {},
   "outputs": [],
   "source": [
    "dfs = sort_dfs(dfs)\n",
    "#print(dfs[0].index==dfs[2].index)"
   ]
  },
  {
   "cell_type": "markdown",
   "id": "135466f4",
   "metadata": {},
   "source": [
    "# część II<br>ANALIZY"
   ]
  },
  {
   "cell_type": "markdown",
   "id": "6643b569",
   "metadata": {},
   "source": [
    "6. [ ] Przeprowadza analizy (za pomocą bibliotek numpy lub panadas):<br>\n",
    "    - **Które kraje w poszczególnych latach z danymi, emitują najwięcej CO2 w przeliczeniu na mieszkańca.**<br>To znaczy generuje posortowaną po latach tabelkę pięcioma krajami o największej emisji na osobę (z podaną nazwą kraju, emisją na osobę i całkowitą emisją.\n",
    "    - **Które kraje w poszczególnych latach z danymi mają największy przychód mieszkańca.**<br>To znaczy generuje posortowaną po latach tabelkę pięcioma krajami o największym dochodzie na mieszkańca (z podaną nazwą kraju, dochodem na mieszkańca i całkowitym dochodem).\n",
    "    - **Które kraje (w przeliczeniu na mieszkańca) najbardziej zmniejszyły i zwiększyły przez ost. 10 lat (z danych) emisję CO2.**"
   ]
  },
  {
   "cell_type": "code",
   "execution_count": 21,
   "id": "3f50d66b",
   "metadata": {},
   "outputs": [],
   "source": [
    "df_population, df_gdp, df_co2 = dfs"
   ]
  },
  {
   "cell_type": "code",
   "execution_count": 22,
   "id": "00e82a95",
   "metadata": {},
   "outputs": [
    {
     "data": {
      "text/html": [
       "<div>\n",
       "<style scoped>\n",
       "    .dataframe tbody tr th:only-of-type {\n",
       "        vertical-align: middle;\n",
       "    }\n",
       "\n",
       "    .dataframe tbody tr th {\n",
       "        vertical-align: top;\n",
       "    }\n",
       "\n",
       "    .dataframe thead th {\n",
       "        text-align: right;\n",
       "    }\n",
       "</style>\n",
       "<table border=\"1\" class=\"dataframe\">\n",
       "  <thead>\n",
       "    <tr style=\"text-align: right;\">\n",
       "      <th>Country</th>\n",
       "      <th>ALGERIA</th>\n",
       "      <th>AUSTRALIA</th>\n",
       "      <th>AUSTRIA</th>\n",
       "      <th>BELGIUM</th>\n",
       "      <th>BELIZE</th>\n",
       "      <th>BENIN</th>\n",
       "      <th>BERMUDA</th>\n",
       "      <th>BRAZIL</th>\n",
       "      <th>BURKINA FASO</th>\n",
       "      <th>CANADA</th>\n",
       "      <th>...</th>\n",
       "      <th>SRI LANKA</th>\n",
       "      <th>SURINAME</th>\n",
       "      <th>SWEDEN</th>\n",
       "      <th>SYRIAN ARAB REPUBLIC</th>\n",
       "      <th>THAILAND</th>\n",
       "      <th>TOGO</th>\n",
       "      <th>TRINIDAD AND TOBAGO</th>\n",
       "      <th>UGANDA</th>\n",
       "      <th>UNITED KINGDOM</th>\n",
       "      <th>URUGUAY</th>\n",
       "    </tr>\n",
       "    <tr>\n",
       "      <th>Year</th>\n",
       "      <th></th>\n",
       "      <th></th>\n",
       "      <th></th>\n",
       "      <th></th>\n",
       "      <th></th>\n",
       "      <th></th>\n",
       "      <th></th>\n",
       "      <th></th>\n",
       "      <th></th>\n",
       "      <th></th>\n",
       "      <th></th>\n",
       "      <th></th>\n",
       "      <th></th>\n",
       "      <th></th>\n",
       "      <th></th>\n",
       "      <th></th>\n",
       "      <th></th>\n",
       "      <th></th>\n",
       "      <th></th>\n",
       "      <th></th>\n",
       "      <th></th>\n",
       "    </tr>\n",
       "  </thead>\n",
       "  <tbody>\n",
       "    <tr>\n",
       "      <th>1960</th>\n",
       "      <td>0.000152</td>\n",
       "      <td>0.002341</td>\n",
       "      <td>0.001193</td>\n",
       "      <td>0.002711</td>\n",
       "      <td>0.000130</td>\n",
       "      <td>0.000018</td>\n",
       "      <td>0.000968</td>\n",
       "      <td>0.000177</td>\n",
       "      <td>0.000002</td>\n",
       "      <td>0.002937</td>\n",
       "      <td>...</td>\n",
       "      <td>0.000062</td>\n",
       "      <td>0.000410</td>\n",
       "      <td>0.001793</td>\n",
       "      <td>0.000192</td>\n",
       "      <td>0.000037</td>\n",
       "      <td>0.000011</td>\n",
       "      <td>0.000830</td>\n",
       "      <td>0.000017</td>\n",
       "      <td>0.003041</td>\n",
       "      <td>0.000464</td>\n",
       "    </tr>\n",
       "    <tr>\n",
       "      <th>1961</th>\n",
       "      <td>0.000146</td>\n",
       "      <td>0.002357</td>\n",
       "      <td>0.001226</td>\n",
       "      <td>0.002755</td>\n",
       "      <td>0.000106</td>\n",
       "      <td>0.000014</td>\n",
       "      <td>0.001055</td>\n",
       "      <td>0.000181</td>\n",
       "      <td>0.000005</td>\n",
       "      <td>0.002898</td>\n",
       "      <td>...</td>\n",
       "      <td>0.000063</td>\n",
       "      <td>0.000395</td>\n",
       "      <td>0.001772</td>\n",
       "      <td>0.000177</td>\n",
       "      <td>0.000040</td>\n",
       "      <td>0.000016</td>\n",
       "      <td>0.001451</td>\n",
       "      <td>0.000016</td>\n",
       "      <td>0.003042</td>\n",
       "      <td>0.000437</td>\n",
       "    </tr>\n",
       "    <tr>\n",
       "      <th>1962</th>\n",
       "      <td>0.000133</td>\n",
       "      <td>0.002410</td>\n",
       "      <td>0.001297</td>\n",
       "      <td>0.002902</td>\n",
       "      <td>0.000195</td>\n",
       "      <td>0.000015</td>\n",
       "      <td>0.000923</td>\n",
       "      <td>0.000191</td>\n",
       "      <td>0.000005</td>\n",
       "      <td>0.003035</td>\n",
       "      <td>...</td>\n",
       "      <td>0.000068</td>\n",
       "      <td>0.000444</td>\n",
       "      <td>0.001851</td>\n",
       "      <td>0.000179</td>\n",
       "      <td>0.000047</td>\n",
       "      <td>0.000015</td>\n",
       "      <td>0.002245</td>\n",
       "      <td>0.000016</td>\n",
       "      <td>0.003039</td>\n",
       "      <td>0.000420</td>\n",
       "    </tr>\n",
       "    <tr>\n",
       "      <th>1963</th>\n",
       "      <td>0.000124</td>\n",
       "      <td>0.002516</td>\n",
       "      <td>0.001406</td>\n",
       "      <td>0.003105</td>\n",
       "      <td>0.000170</td>\n",
       "      <td>0.000013</td>\n",
       "      <td>0.000860</td>\n",
       "      <td>0.000193</td>\n",
       "      <td>0.000005</td>\n",
       "      <td>0.003036</td>\n",
       "      <td>...</td>\n",
       "      <td>0.000065</td>\n",
       "      <td>0.000465</td>\n",
       "      <td>0.001986</td>\n",
       "      <td>0.000196</td>\n",
       "      <td>0.000051</td>\n",
       "      <td>0.000018</td>\n",
       "      <td>0.000400</td>\n",
       "      <td>0.000016</td>\n",
       "      <td>0.003069</td>\n",
       "      <td>0.000447</td>\n",
       "    </tr>\n",
       "    <tr>\n",
       "      <th>1964</th>\n",
       "      <td>0.000126</td>\n",
       "      <td>0.002661</td>\n",
       "      <td>0.001470</td>\n",
       "      <td>0.003014</td>\n",
       "      <td>0.000223</td>\n",
       "      <td>0.000015</td>\n",
       "      <td>0.001125</td>\n",
       "      <td>0.000191</td>\n",
       "      <td>0.000006</td>\n",
       "      <td>0.003356</td>\n",
       "      <td>...</td>\n",
       "      <td>0.000057</td>\n",
       "      <td>0.000515</td>\n",
       "      <td>0.002151</td>\n",
       "      <td>0.000229</td>\n",
       "      <td>0.000066</td>\n",
       "      <td>0.000022</td>\n",
       "      <td>0.001147</td>\n",
       "      <td>0.000017</td>\n",
       "      <td>0.003072</td>\n",
       "      <td>0.000466</td>\n",
       "    </tr>\n",
       "  </tbody>\n",
       "</table>\n",
       "<p>5 rows × 62 columns</p>\n",
       "</div>"
      ],
      "text/plain": [
       "Country   ALGERIA  AUSTRALIA   AUSTRIA   BELGIUM    BELIZE     BENIN  \\\n",
       "Year                                                                   \n",
       "1960     0.000152   0.002341  0.001193  0.002711  0.000130  0.000018   \n",
       "1961     0.000146   0.002357  0.001226  0.002755  0.000106  0.000014   \n",
       "1962     0.000133   0.002410  0.001297  0.002902  0.000195  0.000015   \n",
       "1963     0.000124   0.002516  0.001406  0.003105  0.000170  0.000013   \n",
       "1964     0.000126   0.002661  0.001470  0.003014  0.000223  0.000015   \n",
       "\n",
       "Country   BERMUDA    BRAZIL  BURKINA FASO    CANADA  ...  SRI LANKA  SURINAME  \\\n",
       "Year                                                 ...                        \n",
       "1960     0.000968  0.000177      0.000002  0.002937  ...   0.000062  0.000410   \n",
       "1961     0.001055  0.000181      0.000005  0.002898  ...   0.000063  0.000395   \n",
       "1962     0.000923  0.000191      0.000005  0.003035  ...   0.000068  0.000444   \n",
       "1963     0.000860  0.000193      0.000005  0.003036  ...   0.000065  0.000465   \n",
       "1964     0.001125  0.000191      0.000006  0.003356  ...   0.000057  0.000515   \n",
       "\n",
       "Country    SWEDEN  SYRIAN ARAB REPUBLIC  THAILAND      TOGO  \\\n",
       "Year                                                          \n",
       "1960     0.001793              0.000192  0.000037  0.000011   \n",
       "1961     0.001772              0.000177  0.000040  0.000016   \n",
       "1962     0.001851              0.000179  0.000047  0.000015   \n",
       "1963     0.001986              0.000196  0.000051  0.000018   \n",
       "1964     0.002151              0.000229  0.000066  0.000022   \n",
       "\n",
       "Country  TRINIDAD AND TOBAGO    UGANDA  UNITED KINGDOM   URUGUAY  \n",
       "Year                                                              \n",
       "1960                0.000830  0.000017        0.003041  0.000464  \n",
       "1961                0.001451  0.000016        0.003042  0.000437  \n",
       "1962                0.002245  0.000016        0.003039  0.000420  \n",
       "1963                0.000400  0.000016        0.003069  0.000447  \n",
       "1964                0.001147  0.000017        0.003072  0.000466  \n",
       "\n",
       "[5 rows x 62 columns]"
      ]
     },
     "execution_count": 22,
     "metadata": {},
     "output_type": "execute_result"
    }
   ],
   "source": [
    "#utworzenie ramek danych do analiz 1 i 2\n",
    "df_co2_per_capita = (df_co2 / df_population).astype(float).sort_index(axis=0)\n",
    "df_gdp_per_capita = (df_gdp / df_population).astype(float).sort_index(axis=0)\n",
    "df_co2_per_capita.head()\n",
    "#df_gdp_per_capita.head()"
   ]
  },
  {
   "cell_type": "markdown",
   "id": "8e2b71f7",
   "metadata": {},
   "source": [
    "### (A) Które kraje w poszczególnych latach z danymi, emitują najwięcej CO2 w przeliczeniu na mieszkańca.\n",
    "To znaczy generuje posortowaną po latach tabelkę pięcioma krajami o największej emisji na osobę (z podaną nazwą kraju, emisją na osobę i całkowitą emisją."
   ]
  },
  {
   "cell_type": "code",
   "execution_count": 23,
   "id": "aa1628b0",
   "metadata": {},
   "outputs": [],
   "source": [
    "def top_5_scores(df_per_capita, df_total, k=5):\n",
    "    '''Funkcja dla przekazanych ramek danych - z wartościami per capita i z wartościami sumarycznie,\n",
    "    zwraca ramkę danych, posortowaną po latach, w z krajami o top k wartościach w ramce per-capita\n",
    "    i wartościach dla tych krajów w ramce df_total.\n",
    "    Uwaga - obie rami muzą mieć zgodne indeksy oraz nazwy kolumn.'''\n",
    "    \n",
    "    assert (df_per_capita.index == df_total.index).all()\n",
    "    assert (df_per_capita.columns == df_total.columns).all()\n",
    "    \n",
    "    df_list = []\n",
    "    \n",
    "    for year in df_per_capita.index:\n",
    "        largest_5 = df_per_capita.loc[year].nlargest(k)\n",
    "        largest_5_totals = df_total.loc[year][largest_5.index]\n",
    "        \n",
    "        df_c = pd.concat([largest_5, largest_5_totals], axis=1).reset_index()\n",
    "        df_c.insert(0,'Year', year)\n",
    "        df_c.columns = ['Year', 'Country', 'Per capita', 'Total']\n",
    "        df_list.append(df_c)\n",
    "    df_all = pd.concat(df_list, axis=0) #, ignore_index=True)\n",
    "    #df_all = df_all.sort_values('Year')\n",
    "    \n",
    "    return df_all"
   ]
  },
  {
   "cell_type": "code",
   "execution_count": 24,
   "id": "0bdba68d",
   "metadata": {},
   "outputs": [
    {
     "data": {
      "text/html": [
       "<div>\n",
       "<style scoped>\n",
       "    .dataframe tbody tr th:only-of-type {\n",
       "        vertical-align: middle;\n",
       "    }\n",
       "\n",
       "    .dataframe tbody tr th {\n",
       "        vertical-align: top;\n",
       "    }\n",
       "\n",
       "    .dataframe thead th {\n",
       "        text-align: right;\n",
       "    }\n",
       "</style>\n",
       "<table border=\"1\" class=\"dataframe\">\n",
       "  <thead>\n",
       "    <tr style=\"text-align: right;\">\n",
       "      <th></th>\n",
       "      <th>Year</th>\n",
       "      <th>Country</th>\n",
       "      <th>Per capita</th>\n",
       "      <th>Total</th>\n",
       "    </tr>\n",
       "  </thead>\n",
       "  <tbody>\n",
       "    <tr>\n",
       "      <th>0</th>\n",
       "      <td>1960</td>\n",
       "      <td>LUXEMBOURG</td>\n",
       "      <td>0.010004</td>\n",
       "      <td>3141.0</td>\n",
       "    </tr>\n",
       "    <tr>\n",
       "      <th>1</th>\n",
       "      <td>1960</td>\n",
       "      <td>UNITED KINGDOM</td>\n",
       "      <td>0.003041</td>\n",
       "      <td>159340.0</td>\n",
       "    </tr>\n",
       "    <tr>\n",
       "      <th>2</th>\n",
       "      <td>1960</td>\n",
       "      <td>CANADA</td>\n",
       "      <td>0.002937</td>\n",
       "      <td>52603.0</td>\n",
       "    </tr>\n",
       "    <tr>\n",
       "      <th>3</th>\n",
       "      <td>1960</td>\n",
       "      <td>BELGIUM</td>\n",
       "      <td>0.002711</td>\n",
       "      <td>24816.0</td>\n",
       "    </tr>\n",
       "    <tr>\n",
       "      <th>4</th>\n",
       "      <td>1960</td>\n",
       "      <td>AUSTRALIA</td>\n",
       "      <td>0.002341</td>\n",
       "      <td>24053.0</td>\n",
       "    </tr>\n",
       "    <tr>\n",
       "      <th>...</th>\n",
       "      <td>...</td>\n",
       "      <td>...</td>\n",
       "      <td>...</td>\n",
       "      <td>...</td>\n",
       "    </tr>\n",
       "    <tr>\n",
       "      <th>0</th>\n",
       "      <td>2014</td>\n",
       "      <td>TRINIDAD AND TOBAGO</td>\n",
       "      <td>0.009263</td>\n",
       "      <td>12619.0</td>\n",
       "    </tr>\n",
       "    <tr>\n",
       "      <th>1</th>\n",
       "      <td>2014</td>\n",
       "      <td>LUXEMBOURG</td>\n",
       "      <td>0.004735</td>\n",
       "      <td>2634.0</td>\n",
       "    </tr>\n",
       "    <tr>\n",
       "      <th>2</th>\n",
       "      <td>2014</td>\n",
       "      <td>AUSTRALIA</td>\n",
       "      <td>0.004197</td>\n",
       "      <td>98517.0</td>\n",
       "    </tr>\n",
       "    <tr>\n",
       "      <th>3</th>\n",
       "      <td>2014</td>\n",
       "      <td>CANADA</td>\n",
       "      <td>0.004134</td>\n",
       "      <td>146494.0</td>\n",
       "    </tr>\n",
       "    <tr>\n",
       "      <th>4</th>\n",
       "      <td>2014</td>\n",
       "      <td>SINGAPORE</td>\n",
       "      <td>0.002811</td>\n",
       "      <td>15373.0</td>\n",
       "    </tr>\n",
       "  </tbody>\n",
       "</table>\n",
       "<p>275 rows × 4 columns</p>\n",
       "</div>"
      ],
      "text/plain": [
       "    Year              Country  Per capita     Total\n",
       "0   1960           LUXEMBOURG    0.010004    3141.0\n",
       "1   1960       UNITED KINGDOM    0.003041  159340.0\n",
       "2   1960               CANADA    0.002937   52603.0\n",
       "3   1960              BELGIUM    0.002711   24816.0\n",
       "4   1960            AUSTRALIA    0.002341   24053.0\n",
       "..   ...                  ...         ...       ...\n",
       "0   2014  TRINIDAD AND TOBAGO    0.009263   12619.0\n",
       "1   2014           LUXEMBOURG    0.004735    2634.0\n",
       "2   2014            AUSTRALIA    0.004197   98517.0\n",
       "3   2014               CANADA    0.004134  146494.0\n",
       "4   2014            SINGAPORE    0.002811   15373.0\n",
       "\n",
       "[275 rows x 4 columns]"
      ]
     },
     "execution_count": 24,
     "metadata": {},
     "output_type": "execute_result"
    }
   ],
   "source": [
    "top_5_scores(df_co2_per_capita, df_co2)"
   ]
  },
  {
   "cell_type": "markdown",
   "id": "1815ce3e",
   "metadata": {},
   "source": [
    "### (B) Które kraje w poszczególnych latach z danymi mają największy przychód mieszkańca.\n",
    "To znaczy generuje posortowaną po latach tabelkę pięcioma krajami o największym dochodzie na mieszkańca (z podaną nazwą kraju, dochodem na mieszkańca i całkowitym dochodem)."
   ]
  },
  {
   "cell_type": "code",
   "execution_count": 25,
   "id": "3513ac61",
   "metadata": {},
   "outputs": [
    {
     "data": {
      "text/html": [
       "<div>\n",
       "<style scoped>\n",
       "    .dataframe tbody tr th:only-of-type {\n",
       "        vertical-align: middle;\n",
       "    }\n",
       "\n",
       "    .dataframe tbody tr th {\n",
       "        vertical-align: top;\n",
       "    }\n",
       "\n",
       "    .dataframe thead th {\n",
       "        text-align: right;\n",
       "    }\n",
       "</style>\n",
       "<table border=\"1\" class=\"dataframe\">\n",
       "  <thead>\n",
       "    <tr style=\"text-align: right;\">\n",
       "      <th></th>\n",
       "      <th>Year</th>\n",
       "      <th>Country</th>\n",
       "      <th>Per capita</th>\n",
       "      <th>Total</th>\n",
       "    </tr>\n",
       "  </thead>\n",
       "  <tbody>\n",
       "    <tr>\n",
       "      <th>0</th>\n",
       "      <td>1960</td>\n",
       "      <td>CANADA</td>\n",
       "      <td>2259.294285</td>\n",
       "      <td>40461721692.646797</td>\n",
       "    </tr>\n",
       "    <tr>\n",
       "      <th>1</th>\n",
       "      <td>1960</td>\n",
       "      <td>LUXEMBOURG</td>\n",
       "      <td>2242.015817</td>\n",
       "      <td>703925705.942958</td>\n",
       "    </tr>\n",
       "    <tr>\n",
       "      <th>2</th>\n",
       "      <td>1960</td>\n",
       "      <td>SWEDEN</td>\n",
       "      <td>2114.002973</td>\n",
       "      <td>15822585033.576401</td>\n",
       "    </tr>\n",
       "    <tr>\n",
       "      <th>3</th>\n",
       "      <td>1960</td>\n",
       "      <td>BERMUDA</td>\n",
       "      <td>1902.402119</td>\n",
       "      <td>84466654.076912</td>\n",
       "    </tr>\n",
       "    <tr>\n",
       "      <th>4</th>\n",
       "      <td>1960</td>\n",
       "      <td>AUSTRALIA</td>\n",
       "      <td>1810.619230</td>\n",
       "      <td>18606786874.23</td>\n",
       "    </tr>\n",
       "    <tr>\n",
       "      <th>...</th>\n",
       "      <td>...</td>\n",
       "      <td>...</td>\n",
       "      <td>...</td>\n",
       "      <td>...</td>\n",
       "    </tr>\n",
       "    <tr>\n",
       "      <th>0</th>\n",
       "      <td>2014</td>\n",
       "      <td>LUXEMBOURG</td>\n",
       "      <td>123678.702143</td>\n",
       "      <td>68804811897.644501</td>\n",
       "    </tr>\n",
       "    <tr>\n",
       "      <th>1</th>\n",
       "      <td>2014</td>\n",
       "      <td>BERMUDA</td>\n",
       "      <td>98467.683994</td>\n",
       "      <td>6413988000.0</td>\n",
       "    </tr>\n",
       "    <tr>\n",
       "      <th>2</th>\n",
       "      <td>2014</td>\n",
       "      <td>NORWAY</td>\n",
       "      <td>97019.182753</td>\n",
       "      <td>498410050251.255981</td>\n",
       "    </tr>\n",
       "    <tr>\n",
       "      <th>3</th>\n",
       "      <td>2014</td>\n",
       "      <td>AUSTRALIA</td>\n",
       "      <td>62511.690590</td>\n",
       "      <td>1467504819608.919922</td>\n",
       "    </tr>\n",
       "    <tr>\n",
       "      <th>4</th>\n",
       "      <td>2014</td>\n",
       "      <td>SWEDEN</td>\n",
       "      <td>60020.360458</td>\n",
       "      <td>581964017237.094971</td>\n",
       "    </tr>\n",
       "  </tbody>\n",
       "</table>\n",
       "<p>275 rows × 4 columns</p>\n",
       "</div>"
      ],
      "text/plain": [
       "    Year     Country     Per capita                 Total\n",
       "0   1960      CANADA    2259.294285    40461721692.646797\n",
       "1   1960  LUXEMBOURG    2242.015817      703925705.942958\n",
       "2   1960      SWEDEN    2114.002973    15822585033.576401\n",
       "3   1960     BERMUDA    1902.402119       84466654.076912\n",
       "4   1960   AUSTRALIA    1810.619230        18606786874.23\n",
       "..   ...         ...            ...                   ...\n",
       "0   2014  LUXEMBOURG  123678.702143    68804811897.644501\n",
       "1   2014     BERMUDA   98467.683994          6413988000.0\n",
       "2   2014      NORWAY   97019.182753   498410050251.255981\n",
       "3   2014   AUSTRALIA   62511.690590  1467504819608.919922\n",
       "4   2014      SWEDEN   60020.360458   581964017237.094971\n",
       "\n",
       "[275 rows x 4 columns]"
      ]
     },
     "execution_count": 25,
     "metadata": {},
     "output_type": "execute_result"
    }
   ],
   "source": [
    "top_5_scores(df_gdp_per_capita, df_gdp)"
   ]
  },
  {
   "cell_type": "markdown",
   "id": "963beb31",
   "metadata": {},
   "source": [
    "### (C) Które kraje (w przeliczeniu na mieszkańca) najbardziej zmniejszyły i zwiększyły przez ost. 10 lat (z danych) emisję CO2."
   ]
  },
  {
   "cell_type": "code",
   "execution_count": 28,
   "id": "1725cd0a",
   "metadata": {},
   "outputs": [],
   "source": [
    "#df_co2 - posortowane po indeksach\n",
    "df_co2_per_capita\n",
    "df_co2_per_capita.iloc[-10].name\n",
    "len(df_co2_per_capita) <10 \n",
    "\n",
    "def top_differences(df, k=10):\n",
    "    '''Funkcja dla podanej ramki danych wypisuje nazwy kolumn (krajów),\n",
    "    dla których odnotowano najwyższy wzrost/spadek w wartościach między ostatnim a -k-tym wierszem (rokiem).\n",
    "    Jeżeli dla żadnej z kolumn nie nastąpił wzrost/(spadek), wypisany zostanie odpowiedni komunikat.\n",
    "    Uwaga: funkcja nie sortuje danych, uzytkownik zapewnia dane w wybranym przez siebie porządku.'''\n",
    "    \n",
    "    assert k >0\n",
    "    if len(df) < k:\n",
    "        print(f\"Zadany przedział lat ({k}) większy niż liczba dostępnych danych ({len(df)} lat).\\Podaj mniejszy przedział\")\n",
    "        return\n",
    "    \n",
    "    diffs = df.iloc[-1] - df.iloc[-k]\n",
    "    ctr_max, ctr_min = diffs.idxmax(), diffs.idxmin()\n",
    "    \n",
    "    #kraj o największej zmianie w emisji między ostatnim wierszem w danych a k-tym\n",
    "    if diffs[ctr_max] > 0:\n",
    "        print(f\"Kraj o największym wzroście emisji CO2 na osobę w przeciągu {k} ostatnich lat:\")\n",
    "        print(f\"{ctr_max}: wzrost o {round(diffs[ctr_max], 6)} na osobę\")\n",
    "    else:\n",
    "        print(\"Żaden z uwzględnionych krajów nie zwiększył emisji względem początku rozpatrywanego przedziału.\")\n",
    "    \n",
    "    #największy spadek w emisji\n",
    "    if diffs[ctr_min] < 0:\n",
    "        print(f\"\\nKraj o największym spadku emisji CO2 na osobę w przeciągu {k} ostatnich lat:\")\n",
    "        print(f\"{ctr_min}: spadek o {round(-diffs[ctr_min], 6)} na osobę\")\n",
    "    else:\n",
    "        print(\"\\nŻaden z uwzględnionych krajów nie zwiększył emisji względem początku rozpatrywanego przedziału.\")\n",
    "    "
   ]
  },
  {
   "cell_type": "code",
   "execution_count": 29,
   "id": "776e8af1",
   "metadata": {},
   "outputs": [
    {
     "name": "stdout",
     "output_type": "stream",
     "text": [
      "Kraj o największym wzroście emisji CO2 na osobę w przeciągu 10 ostatnich lat:\n",
      "TRINIDAD AND TOBAGO: wzrost o 0.001238 na osobę\n",
      "\n",
      "Kraj o największym spadku emisji CO2 na osobę w przeciągu 10 ostatnich lat:\n",
      "LUXEMBOURG: spadek o 0.002035 na osobę\n"
     ]
    }
   ],
   "source": [
    "top_differences(df_co2_per_capita)"
   ]
  },
  {
   "cell_type": "markdown",
   "id": "0d5f3997",
   "metadata": {},
   "source": [
    "# część III<br>Dodatki techniczne\n",
    "- podział na moduły\n",
    "- zrobić testy\n",
    "- zrobić profilowanie kodu\n",
    "- gotowe -- do instalacji"
   ]
  },
  {
   "cell_type": "markdown",
   "id": "4bb337a5",
   "metadata": {},
   "source": []
  }
 ],
 "metadata": {
  "kernelspec": {
   "display_name": "Python 3",
   "language": "python",
   "name": "python3"
  },
  "language_info": {
   "codemirror_mode": {
    "name": "ipython",
    "version": 3
   },
   "file_extension": ".py",
   "mimetype": "text/x-python",
   "name": "python",
   "nbconvert_exporter": "python",
   "pygments_lexer": "ipython3",
   "version": "3.8.5"
  }
 },
 "nbformat": 4,
 "nbformat_minor": 5
}
